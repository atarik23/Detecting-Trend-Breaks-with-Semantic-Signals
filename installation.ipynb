{
 "cells": [
  {
   "cell_type": "markdown",
   "metadata": {},
   "source": [
    "# Detecting Trend Breaks with Semantic Signals\n",
    "\n",
    "## Installation\n",
    "To set up the project, first ensure that all dependencies are installed by using the provided `requirements.txt`."
   ]
  },
  {
   "cell_type": "code",
   "execution_count": 1,
   "metadata": {},
   "outputs": [
    {
     "name": "stdout",
     "output_type": "stream",
     "text": [
      "Defaulting to user installation because normal site-packages is not writeable\n",
      "Requirement already satisfied: numpy in c:\\programdata\\anaconda3\\lib\\site-packages (from -r ./requirements.txt (line 1)) (1.26.4)\n",
      "Requirement already satisfied: pandas in c:\\programdata\\anaconda3\\lib\\site-packages (from -r ./requirements.txt (line 2)) (2.2.2)\n",
      "Requirement already satisfied: matplotlib in c:\\programdata\\anaconda3\\lib\\site-packages (from -r ./requirements.txt (line 3)) (3.8.4)\n",
      "Requirement already satisfied: scikit-learn in c:\\programdata\\anaconda3\\lib\\site-packages (from -r ./requirements.txt (line 4)) (1.4.2)\n",
      "Requirement already satisfied: kagglehub in c:\\users\\kemal\\appdata\\roaming\\python\\python312\\site-packages (from -r ./requirements.txt (line 5)) (0.3.11)\n",
      "Requirement already satisfied: python-dateutil>=2.8.2 in c:\\programdata\\anaconda3\\lib\\site-packages (from pandas->-r ./requirements.txt (line 2)) (2.9.0.post0)\n",
      "Requirement already satisfied: pytz>=2020.1 in c:\\programdata\\anaconda3\\lib\\site-packages (from pandas->-r ./requirements.txt (line 2)) (2024.1)\n",
      "Requirement already satisfied: tzdata>=2022.7 in c:\\programdata\\anaconda3\\lib\\site-packages (from pandas->-r ./requirements.txt (line 2)) (2023.3)\n",
      "Requirement already satisfied: contourpy>=1.0.1 in c:\\programdata\\anaconda3\\lib\\site-packages (from matplotlib->-r ./requirements.txt (line 3)) (1.2.0)\n",
      "Requirement already satisfied: cycler>=0.10 in c:\\programdata\\anaconda3\\lib\\site-packages (from matplotlib->-r ./requirements.txt (line 3)) (0.11.0)\n",
      "Requirement already satisfied: fonttools>=4.22.0 in c:\\programdata\\anaconda3\\lib\\site-packages (from matplotlib->-r ./requirements.txt (line 3)) (4.51.0)\n",
      "Requirement already satisfied: kiwisolver>=1.3.1 in c:\\programdata\\anaconda3\\lib\\site-packages (from matplotlib->-r ./requirements.txt (line 3)) (1.4.4)\n",
      "Requirement already satisfied: packaging>=20.0 in c:\\users\\kemal\\appdata\\roaming\\python\\python312\\site-packages (from matplotlib->-r ./requirements.txt (line 3)) (24.1)\n",
      "Requirement already satisfied: pillow>=8 in c:\\programdata\\anaconda3\\lib\\site-packages (from matplotlib->-r ./requirements.txt (line 3)) (10.3.0)\n",
      "Requirement already satisfied: pyparsing>=2.3.1 in c:\\programdata\\anaconda3\\lib\\site-packages (from matplotlib->-r ./requirements.txt (line 3)) (3.0.9)\n",
      "Requirement already satisfied: scipy>=1.6.0 in c:\\programdata\\anaconda3\\lib\\site-packages (from scikit-learn->-r ./requirements.txt (line 4)) (1.13.1)\n",
      "Requirement already satisfied: joblib>=1.2.0 in c:\\programdata\\anaconda3\\lib\\site-packages (from scikit-learn->-r ./requirements.txt (line 4)) (1.4.2)\n",
      "Requirement already satisfied: threadpoolctl>=2.0.0 in c:\\programdata\\anaconda3\\lib\\site-packages (from scikit-learn->-r ./requirements.txt (line 4)) (2.2.0)\n",
      "Requirement already satisfied: pyyaml in c:\\programdata\\anaconda3\\lib\\site-packages (from kagglehub->-r ./requirements.txt (line 5)) (6.0.1)\n",
      "Requirement already satisfied: requests in c:\\programdata\\anaconda3\\lib\\site-packages (from kagglehub->-r ./requirements.txt (line 5)) (2.32.2)\n",
      "Requirement already satisfied: tqdm in c:\\programdata\\anaconda3\\lib\\site-packages (from kagglehub->-r ./requirements.txt (line 5)) (4.66.4)\n",
      "Requirement already satisfied: six>=1.5 in c:\\programdata\\anaconda3\\lib\\site-packages (from python-dateutil>=2.8.2->pandas->-r ./requirements.txt (line 2)) (1.16.0)\n",
      "Requirement already satisfied: charset-normalizer<4,>=2 in c:\\programdata\\anaconda3\\lib\\site-packages (from requests->kagglehub->-r ./requirements.txt (line 5)) (2.0.4)\n",
      "Requirement already satisfied: idna<4,>=2.5 in c:\\programdata\\anaconda3\\lib\\site-packages (from requests->kagglehub->-r ./requirements.txt (line 5)) (3.7)\n",
      "Requirement already satisfied: urllib3<3,>=1.21.1 in c:\\programdata\\anaconda3\\lib\\site-packages (from requests->kagglehub->-r ./requirements.txt (line 5)) (2.2.2)\n",
      "Requirement already satisfied: certifi>=2017.4.17 in c:\\programdata\\anaconda3\\lib\\site-packages (from requests->kagglehub->-r ./requirements.txt (line 5)) (2025.1.31)\n",
      "Requirement already satisfied: colorama in c:\\users\\kemal\\appdata\\roaming\\python\\python312\\site-packages (from tqdm->kagglehub->-r ./requirements.txt (line 5)) (0.4.6)\n",
      "Note: you may need to restart the kernel to use updated packages.\n"
     ]
    }
   ],
   "source": [
    "pip install -r ./requirements.txt"
   ]
  },
  {
   "cell_type": "markdown",
   "metadata": {},
   "source": [
    "## Datasets\n",
    "The datasets required for this project will be downloaded into the `/data` directory, with subfolders for each dataset.\n",
    "\n",
    "### Download Dataset I\n",
    "Run the code below to download the *Tweet Sentiment's Impact on Stock Returns* dataset:"
   ]
  },
  {
   "cell_type": "code",
   "execution_count": null,
   "metadata": {},
   "outputs": [
    {
     "name": "stdout",
     "output_type": "stream",
     "text": [
      "Path to dataset files: ./data\\Impact_on_Stock_Returns\n",
      "Dataset moved and renamed successfully to ./data\\Impact_on_Stock_Returns.\n"
     ]
    }
   ],
   "source": [
    "import os\n",
    "import shutil\n",
    "import subprocess\n",
    "import kagglehub\n",
    "\n",
    "# Ensure the ./data directory exists\n",
    "os.makedirs(\"./data\", exist_ok=True)\n",
    "\n",
    "# Download the Tweet Sentiment's Impact on Stock Returns dataset\n",
    "path = kagglehub.dataset_download(\"thedevastator/tweet-sentiment-s-impact-on-stock-returns\")\n",
    "\n",
    "# Move the downloaded dataset to the ./data directory and dynamically handle the folder name\n",
    "if path and os.path.exists(path):\n",
    "    destination = \"./data/raw\"\n",
    "    new_name = \"Impact_on_Stock_Returns\"\n",
    "    final_path = os.path.join(destination, new_name)\n",
    "\n",
    "    # Ensure destination directory exists\n",
    "    os.makedirs(destination, exist_ok=True)\n",
    "    \n",
    "    # Check if the file exists and move it\n",
    "    shutil.move(path, destination)\n",
    "    \n",
    "    # Rename the moved folder/file dynamically\n",
    "    original_path = os.path.join(destination, os.path.basename(path))\n",
    "    if os.path.exists(original_path):\n",
    "        os.rename(original_path, final_path)\n",
    "\n",
    "    print(\"Path to dataset files:\", final_path)\n",
    "    print(f\"Dataset moved and renamed successfully to {final_path}.\")\n",
    "else:\n",
    "    print(\"Dataset path not found or download failed.\")"
   ]
  },
  {
   "cell_type": "markdown",
   "metadata": {},
   "source": [
    "### Download Dataset II\n",
    "Run the code below to download the *StockEmotions* dataset:"
   ]
  },
  {
   "cell_type": "code",
   "execution_count": null,
   "metadata": {},
   "outputs": [
    {
     "name": "stdout",
     "output_type": "stream",
     "text": [
      "Repository moved to ./data/StockEmotions and .git removed successfully.\n"
     ]
    }
   ],
   "source": [
    "# Ensure the ./data directory exists\n",
    "os.makedirs(\"./data\", exist_ok=True)\n",
    "\n",
    "# Clone the repository into a temporary location\n",
    "temp_repo_path = \"./temp_StockEmotions\"\n",
    "repo_url = \"https://github.com/adlnlp/StockEmotions.git\"\n",
    "\n",
    "subprocess.run([\"git\", \"clone\", repo_url, temp_repo_path], check=True)\n",
    "\n",
    "# Move the cloned repository to the ./data directory without .git\n",
    "destination_path = \"./data/raw/StockEmotions\"\n",
    "if os.path.exists(temp_repo_path):\n",
    "    shutil.move(temp_repo_path, destination_path)\n",
    "\n",
    "    # Remove the .git folder from the cloned repository using elevated permissions\n",
    "    git_dir = os.path.join(destination_path, \".git\")\n",
    "    if os.path.exists(git_dir):\n",
    "        def on_error(func, path, exc_info):\n",
    "            # Change the file permissions and retry\n",
    "            os.chmod(path, 0o777)\n",
    "            func(path)\n",
    "        shutil.rmtree(git_dir, onerror=on_error)\n",
    "\n",
    "    print(f\"Repository moved to {destination_path} and .git removed successfully.\")\n",
    "else:\n",
    "    print(\"Failed to clone the repository.\")\n",
    "\n",
    "# Clean up the temporary path if it still exists\n",
    "if os.path.exists(temp_repo_path):\n",
    "    shutil.rmtree(temp_repo_path)"
   ]
  }
 ],
 "metadata": {
  "kernelspec": {
   "display_name": "base",
   "language": "python",
   "name": "python3"
  },
  "language_info": {
   "codemirror_mode": {
    "name": "ipython",
    "version": 3
   },
   "file_extension": ".py",
   "mimetype": "text/x-python",
   "name": "python",
   "nbconvert_exporter": "python",
   "pygments_lexer": "ipython3",
   "version": "3.12.4"
  }
 },
 "nbformat": 4,
 "nbformat_minor": 2
}
